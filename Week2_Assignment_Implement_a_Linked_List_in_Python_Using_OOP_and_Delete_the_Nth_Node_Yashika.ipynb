{
  "nbformat": 4,
  "nbformat_minor": 0,
  "metadata": {
    "colab": {
      "provenance": [],
      "authorship_tag": "ABX9TyP1Ygfx/I9+gcsBKdcIDGz4",
      "include_colab_link": true
    },
    "kernelspec": {
      "name": "python3",
      "display_name": "Python 3"
    },
    "language_info": {
      "name": "python"
    }
  },
  "cells": [
    {
      "cell_type": "markdown",
      "metadata": {
        "id": "view-in-github",
        "colab_type": "text"
      },
      "source": [
        "<a href=\"https://colab.research.google.com/github/yashika-ishi/CSI_Assignments_2025/blob/main/Week2_Assignment_Implement_a_Linked_List_in_Python_Using_OOP_and_Delete_the_Nth_Node_Yashika.ipynb\" target=\"_parent\"><img src=\"https://colab.research.google.com/assets/colab-badge.svg\" alt=\"Open In Colab\"/></a>"
      ]
    },
    {
      "cell_type": "markdown",
      "source": [
        "# **Celebal Technologies**\n",
        "<br>\n",
        "WEEK-2\n",
        "<br>\n",
        "\n",
        "Assignment : Implement a Linked List in Python Using OOP and Delete the Nth Node.\n",
        "<br>\n",
        "Description:\n",
        "1. Create a Python program that implements a singly linked list using Object-Oriented Programming (OOP) principles.\n",
        "   Your implementation should include the following: A Node class to represent each node in the list.\n",
        "   A LinkedList class to manage the nodes, with methods to: Add a node to the end of the list, Print the list, Delete the nth node (where n is a 1-based index), Include exception handling to manage edge cases such as: Deleting a node from an empty list, Deleting a node with an index out of range.\n",
        "   Test your implementation with at least one sample list.\n",
        "\n",
        "***By: Yashika***"
      ],
      "metadata": {
        "id": "EoCyRUjwHFyu"
      }
    },
    {
      "cell_type": "markdown",
      "source": [
        "# **A Node class to represent each node in the list**"
      ],
      "metadata": {
        "id": "JpBzRTZ3KcAK"
      }
    },
    {
      "cell_type": "code",
      "source": [
        "class Node:\n",
        "    # Represents a single node in a singly linked list.\n",
        "    def __init__(self, data):\n",
        "        self.data = data\n",
        "        self.next = None"
      ],
      "metadata": {
        "id": "IH3YQ8sZKjO2"
      },
      "execution_count": 55,
      "outputs": []
    },
    {
      "cell_type": "markdown",
      "source": [
        "# **A LinkedList class to manage the nodes**"
      ],
      "metadata": {
        "id": "9fhNHCAkKfh6"
      }
    },
    {
      "cell_type": "code",
      "execution_count": 56,
      "metadata": {
        "id": "t2Vxsxf77Rqm"
      },
      "outputs": [],
      "source": [
        "class LinkedList:\n",
        "    # Manages a singly linked list of Node objects.\n",
        "    def __init__(self):\n",
        "        self.head = None\n",
        "\n",
        "    def add_to_end(self, data):\n",
        "        # Adds a new node with the given data to the end of the linked list.\n",
        "        new_node = Node(data)\n",
        "        if self.head is None:\n",
        "            self.head = new_node\n",
        "            return\n",
        "        last_node = self.head\n",
        "\n",
        "        while last_node.next:\n",
        "            last_node = last_node.next\n",
        "        last_node.next = new_node\n",
        "        print(f\"Added '{data}' to the end of the list.\")\n",
        "\n",
        "    def print_list(self):\n",
        "        \"\"\"\n",
        "        Prints the data of each node in the linked list sequentially.\n",
        "        If the list is empty, it prints a corresponding message.\n",
        "        \"\"\"\n",
        "        if self.head is None:\n",
        "            print(\"The list is empty.\")\n",
        "            return\n",
        "\n",
        "        current = self.head\n",
        "        elements = []\n",
        "        while current:\n",
        "            elements.append(str(current.data))\n",
        "            current = current.next\n",
        "        print(\"List: \" + \" -> \".join(elements))\n",
        "\n",
        "    def delete_nth_node(self, n):\n",
        "        \"\"\"\n",
        "        Deletes the nth node (1-based index) from the linked list.\n",
        "        If the list is empty or the index is out of range, it raises a ValueError.\n",
        "        \"\"\"\n",
        "        if self.head is None:\n",
        "            raise ValueError(\"Cannot delete from an empty list.\")\n",
        "\n",
        "        if n < 1:\n",
        "            raise ValueError(\"Node index must be 1-based (n >= 1).\")\n",
        "\n",
        "        # Handle deletion of the head node (n=1)\n",
        "        if n == 1:\n",
        "            deleted_data = self.head.data\n",
        "            self.head = self.head.next\n",
        "            print(f\"Deleted the 1st node with data: '{deleted_data}'.\")\n",
        "            return\n",
        "\n",
        "        # Traverse to the node just before the one to be deleted\n",
        "        current = self.head\n",
        "        count = 1\n",
        "        while current and count < n - 1:\n",
        "            current = current.next\n",
        "            count += 1\n",
        "\n",
        "        # Check if the index is out of range\n",
        "        if current is None or current.next is None:\n",
        "            raise ValueError(f\"Index {n} is out of range for the current list size.\")\n",
        "\n",
        "        # Perform the deletion\n",
        "        deleted_data = current.next.data\n",
        "        current.next = current.next.next\n",
        "        print(f\"Deleted the {n}th node with data: '{deleted_data}'.\")"
      ]
    },
    {
      "cell_type": "markdown",
      "source": [
        "# **Test Implementation**"
      ],
      "metadata": {
        "id": "vxOVo9nfJ_sb"
      }
    },
    {
      "cell_type": "code",
      "source": [
        "print(\"--- Initializing Linked List ---\")\n",
        "my_list = LinkedList()\n",
        "my_list.print_list()"
      ],
      "metadata": {
        "colab": {
          "base_uri": "https://localhost:8080/"
        },
        "id": "FERzb0_zH5lo",
        "outputId": "e97153cd-851b-4a83-dfba-e471486f5ed3"
      },
      "execution_count": 57,
      "outputs": [
        {
          "output_type": "stream",
          "name": "stdout",
          "text": [
            "--- Initializing Linked List ---\n",
            "The list is empty.\n"
          ]
        }
      ]
    },
    {
      "cell_type": "markdown",
      "source": [
        "# **Add nodes to the end of the list**"
      ],
      "metadata": {
        "id": "kPTSCfgPIuNM"
      }
    },
    {
      "cell_type": "code",
      "source": [
        "print(\"\\n--- Adding Nodes ---\")\n",
        "my_list.add_to_end(\"Apple\")\n",
        "my_list.add_to_end(\"Banana\")\n",
        "my_list.add_to_end(\"Cherry\")\n",
        "my_list.add_to_end(\"Date\")"
      ],
      "metadata": {
        "colab": {
          "base_uri": "https://localhost:8080/"
        },
        "id": "OaLzI8ZjIJPG",
        "outputId": "7e4d1ef6-cde8-4552-f776-2ca67a370952"
      },
      "execution_count": 58,
      "outputs": [
        {
          "output_type": "stream",
          "name": "stdout",
          "text": [
            "\n",
            "--- Adding Nodes ---\n",
            "Added 'Banana' to the end of the list.\n",
            "Added 'Cherry' to the end of the list.\n",
            "Added 'Date' to the end of the list.\n"
          ]
        }
      ]
    },
    {
      "cell_type": "markdown",
      "source": [
        "# **Print the list**"
      ],
      "metadata": {
        "id": "4PaF5f46IoTH"
      }
    },
    {
      "cell_type": "code",
      "source": [
        "my_list.print_list()"
      ],
      "metadata": {
        "colab": {
          "base_uri": "https://localhost:8080/"
        },
        "id": "7jIc1hXrInuJ",
        "outputId": "3f60ff54-4d40-467f-fb7f-6ff381ddd6f2"
      },
      "execution_count": 59,
      "outputs": [
        {
          "output_type": "stream",
          "name": "stdout",
          "text": [
            "List: Apple -> Banana -> Cherry -> Date\n"
          ]
        }
      ]
    },
    {
      "cell_type": "markdown",
      "source": [
        "# **Delete the nth node**"
      ],
      "metadata": {
        "id": "MZ77-FCBI0KZ"
      }
    },
    {
      "cell_type": "code",
      "source": [
        "print(\"\\n--- Deleting Nodes ---\")\n",
        "# Test Case 1: Delete a middle node\n",
        "try:\n",
        "    my_list.delete_nth_node(3) # Delete \"Cherry\"\n",
        "    my_list.print_list()\n",
        "except ValueError as e:\n",
        "    print(f\"Error: {e}\")"
      ],
      "metadata": {
        "colab": {
          "base_uri": "https://localhost:8080/"
        },
        "id": "hHQq41O4Hgl4",
        "outputId": "3129217a-f1c5-4a6a-9180-1ba175bcbd1a"
      },
      "execution_count": 60,
      "outputs": [
        {
          "output_type": "stream",
          "name": "stdout",
          "text": [
            "\n",
            "--- Deleting Nodes ---\n",
            "Deleted the 3th node with data: 'Cherry'.\n",
            "List: Apple -> Banana -> Date\n"
          ]
        }
      ]
    },
    {
      "cell_type": "code",
      "source": [
        "# Test Case 2: Delete the head node\n",
        "try:\n",
        "    my_list.delete_nth_node(1) # Delete \"Apple\"\n",
        "    my_list.print_list()\n",
        "except ValueError as e:\n",
        "    print(f\"Error: {e}\")"
      ],
      "metadata": {
        "colab": {
          "base_uri": "https://localhost:8080/"
        },
        "id": "nklpsBnIHlOr",
        "outputId": "17fe33b2-9beb-4563-a15d-875cb1aaf086"
      },
      "execution_count": 61,
      "outputs": [
        {
          "output_type": "stream",
          "name": "stdout",
          "text": [
            "Deleted the 1st node with data: 'Apple'.\n",
            "List: Banana -> Date\n"
          ]
        }
      ]
    },
    {
      "cell_type": "code",
      "source": [
        "# Test Case 3: Delete the last node\n",
        "try:\n",
        "    my_list.delete_nth_node(2) # Delete \"Date\" (originally 4th, now 2nd)\n",
        "    my_list.print_list()\n",
        "except ValueError as e:\n",
        "    print(f\"Error: {e}\")"
      ],
      "metadata": {
        "colab": {
          "base_uri": "https://localhost:8080/"
        },
        "id": "g961SDWUHpG1",
        "outputId": "643bbd0d-7404-4a3c-8a1c-36f82647b7e7"
      },
      "execution_count": 62,
      "outputs": [
        {
          "output_type": "stream",
          "name": "stdout",
          "text": [
            "Deleted the 2th node with data: 'Date'.\n",
            "List: Banana\n"
          ]
        }
      ]
    },
    {
      "cell_type": "markdown",
      "source": [
        "# **Testing Exception Handling**"
      ],
      "metadata": {
        "id": "8HLZvJQlJL-b"
      }
    },
    {
      "cell_type": "markdown",
      "source": [
        "**Deleting a node from an empty list**"
      ],
      "metadata": {
        "id": "_qvvOa1-Je0x"
      }
    },
    {
      "cell_type": "code",
      "source": [
        "print(\"\\n--- Testing Exception Handling ---\")\n",
        "# Test Case 4: Delete from an empty list\n",
        "try:\n",
        "    empty_list = LinkedList()\n",
        "    empty_list.print_list()\n",
        "    empty_list.delete_nth_node(1)\n",
        "except ValueError as e:\n",
        "    print(f\"Caught Expected Error: {e}\")\n",
        "    empty_list.print_list()"
      ],
      "metadata": {
        "colab": {
          "base_uri": "https://localhost:8080/"
        },
        "id": "HYkrJLjsHsGu",
        "outputId": "0115c3b9-d71c-48b4-ac15-67c3a35fcbaf"
      },
      "execution_count": 63,
      "outputs": [
        {
          "output_type": "stream",
          "name": "stdout",
          "text": [
            "\n",
            "--- Testing Exception Handling ---\n",
            "The list is empty.\n",
            "Caught Expected Error: Cannot delete from an empty list.\n",
            "The list is empty.\n"
          ]
        }
      ]
    },
    {
      "cell_type": "markdown",
      "source": [
        "**Deleting a node with an index out of range**"
      ],
      "metadata": {
        "id": "YV9y6p76Jo0S"
      }
    },
    {
      "cell_type": "code",
      "source": [
        "# Test Case 5: Delete with index out of range (too large)\n",
        "try:\n",
        "    my_list.add_to_end(\"Grape\") # Add one node back to illustrate\n",
        "    my_list.add_to_end(\"Yashika\")\n",
        "    my_list.print_list()\n",
        "    my_list.delete_nth_node(5) # List now has Grape, Yashika (length 2)\n",
        "except ValueError as e:\n",
        "    print(f\"Caught Expected Error: {e}\")\n",
        "    my_list.print_list()"
      ],
      "metadata": {
        "colab": {
          "base_uri": "https://localhost:8080/"
        },
        "id": "gOMSqOfeHuAD",
        "outputId": "0b9cf32f-a4a4-4e1d-d5f2-395c09acfac5"
      },
      "execution_count": 64,
      "outputs": [
        {
          "output_type": "stream",
          "name": "stdout",
          "text": [
            "Added 'Grape' to the end of the list.\n",
            "Added 'Yashika' to the end of the list.\n",
            "List: Banana -> Grape -> Yashika\n",
            "Caught Expected Error: Index 5 is out of range for the current list size.\n",
            "List: Banana -> Grape -> Yashika\n"
          ]
        }
      ]
    },
    {
      "cell_type": "code",
      "source": [
        "# Test Case 6: Delete with invalid index (less than 1)\n",
        "try:\n",
        "    my_list.delete_nth_node(0)\n",
        "except ValueError as e:\n",
        "    print(f\"Caught Expected Error: {e}\")\n",
        "    my_list.print_list()"
      ],
      "metadata": {
        "colab": {
          "base_uri": "https://localhost:8080/"
        },
        "id": "5ei1jxcuHv-n",
        "outputId": "e9bd5480-e124-4fea-e2c9-56753045cc28"
      },
      "execution_count": 65,
      "outputs": [
        {
          "output_type": "stream",
          "name": "stdout",
          "text": [
            "Caught Expected Error: Node index must be 1-based (n >= 1).\n",
            "List: Banana -> Grape -> Yashika\n"
          ]
        }
      ]
    },
    {
      "cell_type": "markdown",
      "source": [
        "# **Final List**"
      ],
      "metadata": {
        "id": "G1aBDh-4KNV_"
      }
    },
    {
      "cell_type": "code",
      "source": [
        "print(\"\\n--- Final State of List ---\")\n",
        "my_list.print_list()"
      ],
      "metadata": {
        "colab": {
          "base_uri": "https://localhost:8080/"
        },
        "id": "z0_QDZ1nH0KS",
        "outputId": "9fce008a-3340-4a3e-ae21-5f416a467c46"
      },
      "execution_count": 66,
      "outputs": [
        {
          "output_type": "stream",
          "name": "stdout",
          "text": [
            "\n",
            "--- Final State of List ---\n",
            "List: Banana -> Grape -> Yashika\n"
          ]
        }
      ]
    }
  ]
}