{
  "nbformat": 4,
  "nbformat_minor": 0,
  "metadata": {
    "colab": {
      "provenance": [],
      "authorship_tag": "ABX9TyPQTElsQMd99Y4q5cyfzpmq",
      "include_colab_link": true
    },
    "kernelspec": {
      "name": "python3",
      "display_name": "Python 3"
    },
    "language_info": {
      "name": "python"
    }
  },
  "cells": [
    {
      "cell_type": "markdown",
      "metadata": {
        "id": "view-in-github",
        "colab_type": "text"
      },
      "source": [
        "<a href=\"https://colab.research.google.com/github/yashika-ishi/CSI_Assignments_2025/blob/main/Week1_Assignment_Print_the_Triangle_pattern_Yashika_.ipynb\" target=\"_parent\"><img src=\"https://colab.research.google.com/assets/colab-badge.svg\" alt=\"Open In Colab\"/></a>"
      ]
    },
    {
      "cell_type": "markdown",
      "source": [
        "# **Celebal Technologies**\n",
        "Celebel Summer Internship (CSI)\n",
        "<br>\n",
        "WEEK-1\n",
        "<br>\n",
        "Assignment : Print the Triangle pattern\n",
        "1. Create lower triangular, upper triangular and pyramid containing the \"*\" character.\n",
        "***By: Yashika***"
      ],
      "metadata": {
        "id": "R96MiFFmGAKP"
      }
    },
    {
      "cell_type": "code",
      "source": [
        "# Creating lower triangular pattern\n",
        "def print_lower_triangular(rows):\n",
        "    print(\"\\nLower Triangular Pattern (Rows:\", rows,\")\")\n",
        "    for i in range(1, rows + 1):\n",
        "        print(\"*\" * i)\n",
        "\n",
        "# Creating upper triangular pattern\n",
        "def print_upper_triangular(rows):\n",
        "    print(\"\\nUpper Triangular Pattern (Rows:\", rows,\")\")\n",
        "    for i in range(rows, 0, -1):\n",
        "        # Calculate leading spaces: (rows - i)\n",
        "        # Calculate stars: i\n",
        "        print(\" \" * (rows - i) + \"*\" * i)\n",
        "\n",
        "# Creating upper triangular pattern\n",
        "def print_pyramid(rows):\n",
        "    print(\"\\nPyramid Pattern (Rows:\", rows,\")\")\n",
        "    for i in range(1, rows + 1):\n",
        "        # Calculate leading spaces: rows - i\n",
        "        # Calculate stars: 2 * i - 1 (odd numbers: 1, 3, 5, ...)\n",
        "        print(\" \" * (rows - i) + \"*\" * (2 * i - 1))\n",
        "\n",
        "# Taking number of rows as 5\n",
        "num_rows = 5"
      ],
      "metadata": {
        "id": "FbaZ9j4vAdZo"
      },
      "execution_count": 1,
      "outputs": []
    },
    {
      "cell_type": "markdown",
      "source": [],
      "metadata": {
        "id": "_UGf2QAcGiqz"
      }
    },
    {
      "cell_type": "markdown",
      "source": [
        "# **Printing Lower Triangular**"
      ],
      "metadata": {
        "id": "Ldpr487BGkIS"
      }
    },
    {
      "cell_type": "code",
      "source": [
        "print_lower_triangular(num_rows)"
      ],
      "metadata": {
        "colab": {
          "base_uri": "https://localhost:8080/"
        },
        "id": "8w_1hfhJGaoD",
        "outputId": "2a8ce34a-fc92-48e3-9bdb-89db0925cfcc"
      },
      "execution_count": 2,
      "outputs": [
        {
          "output_type": "stream",
          "name": "stdout",
          "text": [
            "\n",
            "Lower Triangular Pattern (Rows: 5 )\n",
            "*\n",
            "**\n",
            "***\n",
            "****\n",
            "*****\n"
          ]
        }
      ]
    },
    {
      "cell_type": "markdown",
      "source": [
        "# **Printing Upper Triangular**"
      ],
      "metadata": {
        "id": "b6zSLVfyGnyZ"
      }
    },
    {
      "cell_type": "code",
      "source": [
        "print_upper_triangular(num_rows)"
      ],
      "metadata": {
        "id": "fIPFH3zTBkQ3",
        "colab": {
          "base_uri": "https://localhost:8080/"
        },
        "outputId": "28c1987c-5eae-4bad-bdc1-ccd6b25a2634"
      },
      "execution_count": 3,
      "outputs": [
        {
          "output_type": "stream",
          "name": "stdout",
          "text": [
            "\n",
            "Upper Triangular Pattern (Rows: 5 )\n",
            "*****\n",
            " ****\n",
            "  ***\n",
            "   **\n",
            "    *\n"
          ]
        }
      ]
    },
    {
      "cell_type": "markdown",
      "source": [
        "# **Printing Pyramid**"
      ],
      "metadata": {
        "id": "P892NAP4Gsbe"
      }
    },
    {
      "cell_type": "code",
      "source": [
        "print_pyramid(num_rows)"
      ],
      "metadata": {
        "colab": {
          "base_uri": "https://localhost:8080/"
        },
        "id": "l4UHS-QKGe7h",
        "outputId": "27efa616-c73f-46e6-d792-e3416d001450"
      },
      "execution_count": 4,
      "outputs": [
        {
          "output_type": "stream",
          "name": "stdout",
          "text": [
            "\n",
            "Pyramid Pattern (Rows: 5 )\n",
            "    *\n",
            "   ***\n",
            "  *****\n",
            " *******\n",
            "*********\n"
          ]
        }
      ]
    }
  ]
}